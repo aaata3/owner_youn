{
  "nbformat": 4,
  "nbformat_minor": 0,
  "metadata": {
    "colab": {
      "name": "20210601-6팀-윤혜선.ipynb",
      "provenance": [],
      "collapsed_sections": []
    },
    "kernelspec": {
      "name": "python3",
      "display_name": "Python 3"
    },
    "language_info": {
      "name": "python"
    }
  },
  "cells": [
    {
      "cell_type": "code",
      "metadata": {
        "id": "qdmKAv_Cvs9Z"
      },
      "source": [
        "#집합-+,* 사용불가능, 자료형명은 set\n",
        "#합집합 교집합 차집합"
      ],
      "execution_count": null,
      "outputs": []
    },
    {
      "cell_type": "markdown",
      "metadata": {
        "id": "-caImcyeyd8c"
      },
      "source": [
        "6/1\n",
        "반복문\n",
        "for 종료지점있음\n",
        "while 무한루프에 빠질 가능성있음\n"
      ]
    },
    {
      "cell_type": "code",
      "metadata": {
        "colab": {
          "base_uri": "https://localhost:8080/"
        },
        "id": "3uGCK6Itybd0",
        "outputId": "f05419a1-2466-4420-a2ab-9e44c5faad44"
      },
      "source": [
        "for i in [1,2,3,4,5]:\n",
        "    print(i)"
      ],
      "execution_count": null,
      "outputs": [
        {
          "output_type": "stream",
          "text": [
            "1\n",
            "2\n",
            "3\n",
            "4\n",
            "5\n"
          ],
          "name": "stdout"
        }
      ]
    },
    {
      "cell_type": "code",
      "metadata": {
        "colab": {
          "base_uri": "https://localhost:8080/"
        },
        "id": "merbAFwez6-P",
        "outputId": "efb000f7-ee4f-4b53-9009-8254a5b0c3dc"
      },
      "source": [
        "for i in 'python':\n",
        "    print(i)"
      ],
      "execution_count": null,
      "outputs": [
        {
          "output_type": "stream",
          "text": [
            "p\n",
            "y\n",
            "t\n",
            "h\n",
            "o\n",
            "n\n"
          ],
          "name": "stdout"
        }
      ]
    },
    {
      "cell_type": "code",
      "metadata": {
        "colab": {
          "base_uri": "https://localhost:8080/"
        },
        "id": "5JmaUJS70M2J",
        "outputId": "c2a17254-8df0-4771-813b-af5292a5df0a"
      },
      "source": [
        "#range함수\n",
        "for i in range(5):\n",
        "    print(i,end= \" \")"
      ],
      "execution_count": null,
      "outputs": [
        {
          "output_type": "stream",
          "text": [
            "0 1 2 3 4 "
          ],
          "name": "stdout"
        }
      ]
    },
    {
      "cell_type": "code",
      "metadata": {
        "colab": {
          "base_uri": "https://localhost:8080/"
        },
        "id": "N5LO8A_l0Q_q",
        "outputId": "e1faa8ed-1b02-45fc-f0a8-1e087fe562b8"
      },
      "source": [
        "#range함수\n",
        "for i in range(1,6):\n",
        "    print(i,end= \" \")"
      ],
      "execution_count": null,
      "outputs": [
        {
          "output_type": "stream",
          "text": [
            "1 2 3 4 5 "
          ],
          "name": "stdout"
        }
      ]
    },
    {
      "cell_type": "markdown",
      "metadata": {
        "id": "HKsg30fQ0rJX"
      },
      "source": [
        "range함수\n",
        "range(시작값, 끝값, 증가값)\n",
        "end=''를 지정하면 줄이 바뀌지 않고 출력된다\n",
        "end='\\t'-탭키가 자동으로 들어간다."
      ]
    },
    {
      "cell_type": "code",
      "metadata": {
        "id": "Xmoc3fwH0ToS"
      },
      "source": [
        "#range함수-역순 : 오류 시작값은 끝값보다 앞에 위치하여야 한다\n",
        "for i in range(1,10,-1):\n",
        "    print(i,end= \" \")\n",
        "\n",
        "#오류! 실행 안됨 , "
      ],
      "execution_count": null,
      "outputs": []
    },
    {
      "cell_type": "code",
      "metadata": {
        "colab": {
          "base_uri": "https://localhost:8080/"
        },
        "id": "b5PSb1Be0WQi",
        "outputId": "c8877d65-d61b-4841-f9f4-2ef52cc0d29e"
      },
      "source": [
        "#range함수-역순 : 오류\n",
        "for i in range(10,0,-1):\n",
        "    print(i,end= \" \")"
      ],
      "execution_count": null,
      "outputs": [
        {
          "output_type": "stream",
          "text": [
            "10 9 8 7 6 5 4 3 2 1 "
          ],
          "name": "stdout"
        }
      ]
    },
    {
      "cell_type": "code",
      "metadata": {
        "colab": {
          "base_uri": "https://localhost:8080/"
        },
        "id": "chnBtmOo1ibS",
        "outputId": "d087ed5e-2fc6-4218-d1a1-cb4e26f63fc9"
      },
      "source": [
        "for i in range(10):\n",
        "    print('Hello World!!',end='\\t')"
      ],
      "execution_count": null,
      "outputs": [
        {
          "output_type": "stream",
          "text": [
            "Hello World!!\tHello World!!\tHello World!!\tHello World!!\tHello World!!\tHello World!!\tHello World!!\tHello World!!\tHello World!!\tHello World!!\t"
          ],
          "name": "stdout"
        }
      ]
    },
    {
      "cell_type": "code",
      "metadata": {
        "colab": {
          "base_uri": "https://localhost:8080/"
        },
        "id": "XfRyo67Z1lFD",
        "outputId": "f9c2568e-bd8f-43c7-a0f1-0b8fcb63ee28"
      },
      "source": [
        "#while은 변환되는 변수값인 i(anything)를 항상 준다\n",
        "#변수 i가 1이라는 것을 선언하는 것으로 와일문 시작\n",
        "#계속해서 다음 숫자를 확인하면서 대입한다.\n",
        "i = 1\n",
        "while i <= 5:\n",
        "    print(i,end= ' ')\n",
        "    i = i + 1\n",
        "#for문을 사용할땐 range사용"
      ],
      "execution_count": null,
      "outputs": [
        {
          "output_type": "stream",
          "text": [
            "1 2 3 4 5 "
          ],
          "name": "stdout"
        }
      ]
    },
    {
      "cell_type": "code",
      "metadata": {
        "colab": {
          "base_uri": "https://localhost:8080/"
        },
        "id": "CeIp26ID3Xzn",
        "outputId": "48a481f5-16b2-4700-ff70-634e80780c8c"
      },
      "source": [
        "for i in range(1,6):\n",
        "    print(i,end=' ')"
      ],
      "execution_count": null,
      "outputs": [
        {
          "output_type": "stream",
          "text": [
            "1 2 3 4 5 "
          ],
          "name": "stdout"
        }
      ]
    },
    {
      "cell_type": "code",
      "metadata": {
        "id": "v_ceie1643qL"
      },
      "source": [
        "#무한루프일때 ctrl+ m i\n",
        "\n"
      ],
      "execution_count": null,
      "outputs": []
    },
    {
      "cell_type": "code",
      "metadata": {
        "id": "p2q9-PDd4kz7"
      },
      "source": [
        "#무한루프 \n",
        "i = 1 \n",
        "#while i <= 5: # i값이 계속 1이므로 무한루프\n",
        "#    print(i)\n",
        "#print('end')\n",
        "\n",
        "#조건식내에서 사용되는 변수의 fale값을 만들지 않으면 무한루프가 됩니다\n",
        "\n"
      ],
      "execution_count": null,
      "outputs": []
    },
    {
      "cell_type": "code",
      "metadata": {
        "colab": {
          "base_uri": "https://localhost:8080/"
        },
        "id": "Knk7oG4n4xSW",
        "outputId": "aac7eada-322b-4a77-e9c7-a0bea0310ba3"
      },
      "source": [
        "# q를 입력할 때까지 반복입력\n",
        "name = ' '\n",
        "while name != 'q':\n",
        "    name = input('이름을 입력하세요:')\n",
        "    print(name)\n"
      ],
      "execution_count": null,
      "outputs": [
        {
          "output_type": "stream",
          "text": [
            "이름을 입력하세요:혜선\n",
            "혜선\n",
            "이름을 입력하세요:ㅁㅁ\n",
            "ㅁㅁ\n",
            "이름을 입력하세요:ㅠㅠ\n",
            "ㅠㅠ\n",
            "이름을 입력하세요:ㅊㅊ\n",
            "ㅊㅊ\n",
            "이름을 입력하세요:보고서\n",
            "보고서\n",
            "이름을 입력하세요:ㅂ\n",
            "ㅂ\n",
            "이름을 입력하세요:q\n",
            "q\n"
          ],
          "name": "stdout"
        }
      ]
    },
    {
      "cell_type": "code",
      "metadata": {
        "colab": {
          "base_uri": "https://localhost:8080/"
        },
        "id": "yvvBwqTk97MR",
        "outputId": "1cf30714-e5f5-40be-f223-edc097f34f08"
      },
      "source": [
        "# 5개의 정수를 입력 받아 합계 출력\n",
        "sum1 = 0\n",
        "for i in range(5):\n",
        "    sum1 += int(input('정수입력:'))\n",
        "print('합계출력:',sum1)"
      ],
      "execution_count": null,
      "outputs": [
        {
          "output_type": "stream",
          "text": [
            "정수입력:1\n",
            "정수입력:2\n",
            "정수입력:3\n",
            "정수입력:4\n",
            "정수입력:5\n",
            "합계출력: 15\n"
          ],
          "name": "stdout"
        }
      ]
    },
    {
      "cell_type": "code",
      "metadata": {
        "colab": {
          "base_uri": "https://localhost:8080/"
        },
        "id": "9_PBIKU4FJdN",
        "outputId": "c84c102c-439c-4092-f063-e26176622c80"
      },
      "source": [
        "# n개의 정수를 입력 받아 n개의 정수를 입력 받아 합계 출력\n",
        "sum1 = 0\n",
        "n = int(input('몇개의 숫자를 더할까요? :'))\n",
        "for i in range(n):\n",
        "    sum1 += int(input('정수입력:'))\n",
        "print('합계출력:',sum1)"
      ],
      "execution_count": null,
      "outputs": [
        {
          "output_type": "stream",
          "text": [
            "몇개의 숫자를 더할까요? :2\n",
            "정수입력:1\n",
            "정수입력:2\n",
            "합계출력: 3\n"
          ],
          "name": "stdout"
        }
      ]
    },
    {
      "cell_type": "code",
      "metadata": {
        "colab": {
          "base_uri": "https://localhost:8080/"
        },
        "id": "RKVcTU67FRMR",
        "outputId": "a0678131-606a-485c-cbe2-8e72590d3d01"
      },
      "source": [
        "# n개의 정수를 입력 받아 짝수의 합계 구하기\n",
        "sum1 = 0\n",
        "n = int(input('몇개의 숫자를 더할까요? :'))\n",
        "for i in range(n):\n",
        "    num = int(input('정수입력:'))\n",
        "    if num % 2 == 0:\n",
        "        sum1 += num\n",
        "print('합계출력:',sum1)"
      ],
      "execution_count": null,
      "outputs": [
        {
          "output_type": "stream",
          "text": [
            "몇개의 숫자를 더할까요? :3\n",
            "정수입력:3\n",
            "정수입력:2\n",
            "정수입력:6\n",
            "합계출력: 8\n"
          ],
          "name": "stdout"
        }
      ]
    },
    {
      "cell_type": "code",
      "metadata": {
        "colab": {
          "base_uri": "https://localhost:8080/"
        },
        "id": "kHhtUGawFXWm",
        "outputId": "3440e4ef-f231-4438-d453-ee56a69a91cc"
      },
      "source": [
        "# 0이 입력될 때까지 숫자를 입력 받아 합계\n",
        "sum1 = 0\n",
        "num = int(input('숫자:'))\n",
        "while num != 0:\n",
        "    sum1 += num\n",
        "    num = int(input('숫자:'))\n",
        "    #이거 한번 더 안적어주면 while문에서 반복안됨\n",
        "\n",
        "print('합계출력:',sum1) "
      ],
      "execution_count": null,
      "outputs": [
        {
          "output_type": "stream",
          "text": [
            "숫자:0\n",
            "합계출력: 0\n"
          ],
          "name": "stdout"
        }
      ]
    },
    {
      "cell_type": "code",
      "metadata": {
        "colab": {
          "base_uri": "https://localhost:8080/"
        },
        "id": "AgXiDSPfIb5M",
        "outputId": "45d7e18f-ff73-4f8b-d517-200467d08baa"
      },
      "source": [
        "#예제 1~n 까지 더하는 프로그램을 작성하라\n",
        "\n",
        "sum=0\n",
        "n=int(input('1부터 몇까지 더할까요?:'))\n",
        "for i in range(1,n+1):\n",
        "    sum+=i\n",
        "    print(sum)"
      ],
      "execution_count": null,
      "outputs": [
        {
          "output_type": "stream",
          "text": [
            "1부터 몇까지 더할까요?:5\n",
            "1\n",
            "3\n",
            "6\n",
            "10\n",
            "15\n"
          ],
          "name": "stdout"
        }
      ]
    },
    {
      "cell_type": "code",
      "metadata": {
        "colab": {
          "base_uri": "https://localhost:8080/"
        },
        "id": "dktp8JvkMeF2",
        "outputId": "66841be5-6474-4dd4-bb3c-0e97bce5eed3"
      },
      "source": [
        "#1~n까지 더하기\n",
        "\n",
        "sum1 = 0\n",
        "n = int(input('1부터 몇까지 더할까요? :'))\n",
        "for i in range(1,n+1):\n",
        "    sum1 += i\n",
        "print(f'1부터 {n}까지 더한 합계는:',sum1)\n"
      ],
      "execution_count": null,
      "outputs": [
        {
          "output_type": "stream",
          "text": [
            "1부터 몇까지 더할까요? :3\n",
            "1부터 3까지 더한 합계는: 6\n"
          ],
          "name": "stdout"
        }
      ]
    },
    {
      "cell_type": "code",
      "metadata": {
        "colab": {
          "base_uri": "https://localhost:8080/",
          "height": 297
        },
        "id": "yoZeaa9XOBjA",
        "outputId": "fab04288-2acd-4daf-8b20-cb4b4e38eebe"
      },
      "source": [
        "#숫자 n1,n2를 입력받아 n1 ~ n2까지 더하는 프로그램을 작성하세요 \n",
        "sum = 0\n",
        "n1 = int(input('몇 부터? : '))\n",
        "n2 = int(input('몇 까지? : '))\n",
        "for i in range(n1,n2+1):                    #n1 부터 n2+1 까지 범위값 지정 \n",
        "    sum1 += i\n",
        "    print(i)                                #i 값의 변화를 함께 보여주는 출력문 \n",
        "print(f'{n1}부터 {n2}까지 합계는 {sum1}입니다')"
      ],
      "execution_count": null,
      "outputs": [
        {
          "output_type": "stream",
          "text": [
            "몇 부터? : 3\n",
            "몇 까지? : 5\n",
            "3\n",
            "4\n",
            "5\n",
            "3부터 5까지 합계는 18입니다\n"
          ],
          "name": "stdout"
        },
        {
          "output_type": "error",
          "ename": "NameError",
          "evalue": "ignored",
          "traceback": [
            "\u001b[0;31m---------------------------------------------------------------------------\u001b[0m",
            "\u001b[0;31mNameError\u001b[0m                                 Traceback (most recent call last)",
            "\u001b[0;32m<ipython-input-36-ee8af204f30d>\u001b[0m in \u001b[0;36m<module>\u001b[0;34m()\u001b[0m\n\u001b[1;32m      7\u001b[0m     \u001b[0mprint\u001b[0m\u001b[0;34m(\u001b[0m\u001b[0mi\u001b[0m\u001b[0;34m)\u001b[0m                                \u001b[0;31m#i 값의 변화를 함께 보여주는 출력문\u001b[0m\u001b[0;34m\u001b[0m\u001b[0;34m\u001b[0m\u001b[0m\n\u001b[1;32m      8\u001b[0m \u001b[0mprint\u001b[0m\u001b[0;34m(\u001b[0m\u001b[0;34mf'{n1}부터 {n2}까지 합계는 {sum1}입니다'\u001b[0m\u001b[0;34m)\u001b[0m\u001b[0;34m\u001b[0m\u001b[0;34m\u001b[0m\u001b[0m\n\u001b[0;32m----> 9\u001b[0;31m \u001b[0m접기\u001b[0m\u001b[0;34m\u001b[0m\u001b[0;34m\u001b[0m\u001b[0m\n\u001b[0m",
            "\u001b[0;31mNameError\u001b[0m: name '접기' is not defined"
          ]
        }
      ]
    },
    {
      "cell_type": "code",
      "metadata": {
        "colab": {
          "base_uri": "https://localhost:8080/"
        },
        "id": "gLxMbaF8cX8r",
        "outputId": "08d1117a-35cd-498c-da54-dd1064d28325"
      },
      "source": [
        "#임의의 개수 숫자의 평균 구하기\n",
        "n=int(input('입력받을 정수의 개수:'))\n",
        "sum1=0\n",
        "\n",
        "for i in range(n):\n",
        "    num=int(input('정수:'))\n",
        "    sum1+=num #제자리 연산\n",
        "#이 경우, if 문은 for문 밖으로 나와서 작성해준다.\n",
        "if n==0:\n",
        "    print('0개의 정수를 입력하셨습니다')\n",
        "else:\n",
        "    print('평균:', sum1/n)"
      ],
      "execution_count": null,
      "outputs": [
        {
          "output_type": "stream",
          "text": [
            "입력받을 정수의 개수:0\n",
            "0개의 정수를 입력하셨습니다\n"
          ],
          "name": "stdout"
        }
      ]
    },
    {
      "cell_type": "code",
      "metadata": {
        "colab": {
          "base_uri": "https://localhost:8080/"
        },
        "id": "bCQVf9UndbKz",
        "outputId": "1fb32f0f-7476-4aea-f980-4c86838a4735"
      },
      "source": [
        "n=int(input('몇 팩토리얼?:'))\n",
        "sum1=1\n",
        "for i in range(n,0,-1): # n=5라면 5,4,3,2,1 순으로 계산하기위해 -1 순서로 간다!!\n",
        "    #print(i, sum1)\n",
        "    sum1 *=i\n",
        "print(f'{n}! = {sum1}')"
      ],
      "execution_count": null,
      "outputs": [
        {
          "output_type": "stream",
          "text": [
            "몇 팩토리얼?:7\n",
            "7! = 5040\n"
          ],
          "name": "stdout"
        }
      ]
    },
    {
      "cell_type": "code",
      "metadata": {
        "colab": {
          "base_uri": "https://localhost:8080/"
        },
        "id": "ouG7ZfDFgvcT",
        "outputId": "157eaac7-a001-403b-b47d-2bf9658aa50a"
      },
      "source": [
        "n=int(input('구구단 몇단을 출력할까요?:'))\n",
        "sum1=1\n",
        "for i in range(1,10):\n",
        "    print(f'{n}*{i}={n*i}')\n",
        "   \n"
      ],
      "execution_count": null,
      "outputs": [
        {
          "output_type": "stream",
          "text": [
            "구구단 몇단을 출력할까요?:8\n",
            "8*1=8\n",
            "8*2=16\n",
            "8*3=24\n",
            "8*4=32\n",
            "8*5=40\n",
            "8*6=48\n",
            "8*7=56\n",
            "8*8=64\n",
            "8*9=72\n"
          ],
          "name": "stdout"
        }
      ]
    },
    {
      "cell_type": "code",
      "metadata": {
        "colab": {
          "base_uri": "https://localhost:8080/"
        },
        "id": "GeUkb2vdiveT",
        "outputId": "7397663a-bf67-493e-86ec-d9d4094ac70c"
      },
      "source": [
        "#중첩 반복구조\n",
        "for i in range(5):\n",
        "    for j in range(3):\n",
        "        print(i,j)"
      ],
      "execution_count": null,
      "outputs": [
        {
          "output_type": "stream",
          "text": [
            "0 0\n",
            "0 1\n",
            "0 2\n",
            "1 0\n",
            "1 1\n",
            "1 2\n",
            "2 0\n",
            "2 1\n",
            "2 2\n",
            "3 0\n",
            "3 1\n",
            "3 2\n",
            "4 0\n",
            "4 1\n",
            "4 2\n"
          ],
          "name": "stdout"
        }
      ]
    },
    {
      "cell_type": "code",
      "metadata": {
        "colab": {
          "base_uri": "https://localhost:8080/"
        },
        "id": "CZwlc6QrmQvF",
        "outputId": "2fde2377-fcca-4445-fa74-e08c561fbb2b"
      },
      "source": [
        "#중첩 반복구조\n",
        "for i in range(3):\n",
        "    for j in range(5):\n",
        "        print(i,j)"
      ],
      "execution_count": null,
      "outputs": [
        {
          "output_type": "stream",
          "text": [
            "0 0\n",
            "0 1\n",
            "0 2\n",
            "0 3\n",
            "0 4\n",
            "1 0\n",
            "1 1\n",
            "1 2\n",
            "1 3\n",
            "1 4\n",
            "2 0\n",
            "2 1\n",
            "2 2\n",
            "2 3\n",
            "2 4\n"
          ],
          "name": "stdout"
        }
      ]
    },
    {
      "cell_type": "code",
      "metadata": {
        "colab": {
          "base_uri": "https://localhost:8080/"
        },
        "id": "mr9ALwHZmwta",
        "outputId": "45c22e24-7c5e-490a-a6f6-751b620affa1"
      },
      "source": [
        "#예제 구구단 출력하기 가로로\n",
        "for i in range(2,10):\n",
        "    for j in range(1,10):\n",
        "        print(f'{i}*{j}={i*j}', end='\\t')\n",
        "    print() #<<이거 이해안됨 ㅠㅠ"
      ],
      "execution_count": null,
      "outputs": [
        {
          "output_type": "stream",
          "text": [
            "2*1=2\t2*2=4\t2*3=6\t2*4=8\t2*5=10\t2*6=12\t2*7=14\t2*8=16\t2*9=18\t\n",
            "3*1=3\t3*2=6\t3*3=9\t3*4=12\t3*5=15\t3*6=18\t3*7=21\t3*8=24\t3*9=27\t\n",
            "4*1=4\t4*2=8\t4*3=12\t4*4=16\t4*5=20\t4*6=24\t4*7=28\t4*8=32\t4*9=36\t\n",
            "5*1=5\t5*2=10\t5*3=15\t5*4=20\t5*5=25\t5*6=30\t5*7=35\t5*8=40\t5*9=45\t\n",
            "6*1=6\t6*2=12\t6*3=18\t6*4=24\t6*5=30\t6*6=36\t6*7=42\t6*8=48\t6*9=54\t\n",
            "7*1=7\t7*2=14\t7*3=21\t7*4=28\t7*5=35\t7*6=42\t7*7=49\t7*8=56\t7*9=63\t\n",
            "8*1=8\t8*2=16\t8*3=24\t8*4=32\t8*5=40\t8*6=48\t8*7=56\t8*8=64\t8*9=72\t\n",
            "9*1=9\t9*2=18\t9*3=27\t9*4=36\t9*5=45\t9*6=54\t9*7=63\t9*8=72\t9*9=81\t\n"
          ],
          "name": "stdout"
        }
      ]
    },
    {
      "cell_type": "code",
      "metadata": {
        "colab": {
          "base_uri": "https://localhost:8080/"
        },
        "id": "QdZYXQ9Bod5i",
        "outputId": "39611183-4c15-478a-b2e7-d6534ce7f575"
      },
      "source": [
        "#예제 구구단 출력하기 세로로\n",
        "for i in range(1,10):\n",
        "    for j in range(2,10):\n",
        "        print(f'{j}*{i}={i*j}', end='\\t')\n",
        "    print() #<<이거 이해안됨 ㅠㅠ"
      ],
      "execution_count": null,
      "outputs": [
        {
          "output_type": "stream",
          "text": [
            "2*1=2\t3*1=3\t4*1=4\t5*1=5\t6*1=6\t7*1=7\t8*1=8\t9*1=9\t\n",
            "2*2=4\t3*2=6\t4*2=8\t5*2=10\t6*2=12\t7*2=14\t8*2=16\t9*2=18\t\n",
            "2*3=6\t3*3=9\t4*3=12\t5*3=15\t6*3=18\t7*3=21\t8*3=24\t9*3=27\t\n",
            "2*4=8\t3*4=12\t4*4=16\t5*4=20\t6*4=24\t7*4=28\t8*4=32\t9*4=36\t\n",
            "2*5=10\t3*5=15\t4*5=20\t5*5=25\t6*5=30\t7*5=35\t8*5=40\t9*5=45\t\n",
            "2*6=12\t3*6=18\t4*6=24\t5*6=30\t6*6=36\t7*6=42\t8*6=48\t9*6=54\t\n",
            "2*7=14\t3*7=21\t4*7=28\t5*7=35\t6*7=42\t7*7=49\t8*7=56\t9*7=63\t\n",
            "2*8=16\t3*8=24\t4*8=32\t5*8=40\t6*8=48\t7*8=56\t8*8=64\t9*8=72\t\n",
            "2*9=18\t3*9=27\t4*9=36\t5*9=45\t6*9=54\t7*9=63\t8*9=72\t9*9=81\t\n"
          ],
          "name": "stdout"
        }
      ]
    },
    {
      "cell_type": "code",
      "metadata": {
        "colab": {
          "base_uri": "https://localhost:8080/"
        },
        "id": "u256AyYcpI8b",
        "outputId": "846a6f82-d145-469c-8564-1f4e6952e125"
      },
      "source": [
        "#문장에서 해당 문자를 찾으면 반복을 종료한다\n",
        "t= \"I have a dream\"\n",
        "letter=input('찾을문자:')\n",
        "for i in t:\n",
        "    print(i,end=\" \")\n",
        "    if i==letter:\n",
        "        break"
      ],
      "execution_count": null,
      "outputs": [
        {
          "output_type": "stream",
          "text": [
            "찾을문자:I\n",
            "I "
          ],
          "name": "stdout"
        }
      ]
    },
    {
      "cell_type": "code",
      "metadata": {
        "colab": {
          "base_uri": "https://localhost:8080/"
        },
        "id": "KlgC-52rsUpA",
        "outputId": "c9b3d13e-969f-4cf0-c313-bc18b22f11d5"
      },
      "source": [
        "#예제 up&down 게임\n",
        "import random\n",
        "num1= random.randint(1,100)\n",
        "\n",
        "while True:\n",
        "    i=int(input('예상숫자를 입력하세요:'))\n",
        "    if num1>i:\n",
        "        print('up')\n",
        "    elif num1<i:\n",
        "        print('down')\n",
        "    else:\n",
        "        print('정확합니다')\n",
        "        break"
      ],
      "execution_count": null,
      "outputs": [
        {
          "output_type": "stream",
          "text": [
            "예상숫자를 입력하세요:90\n",
            "down\n",
            "예상숫자를 입력하세요:70\n",
            "down\n",
            "예상숫자를 입력하세요:30\n",
            "up\n",
            "예상숫자를 입력하세요:40\n",
            "up\n",
            "예상숫자를 입력하세요:5\n",
            "up\n",
            "예상숫자를 입력하세요:50\n",
            "up\n",
            "예상숫자를 입력하세요:60\n",
            "정확합니다\n"
          ],
          "name": "stdout"
        }
      ]
    },
    {
      "cell_type": "code",
      "metadata": {
        "colab": {
          "base_uri": "https://localhost:8080/",
          "height": 657
        },
        "id": "iomAFylUulWd",
        "outputId": "f0b2f37d-c2b5-45ae-86c2-f3df49b2f8fa"
      },
      "source": [
        "# up&down game\n",
        "import random\n",
        "number = random.randint(1, 100)\n",
        "while True:\n",
        "    answer = int(input('숫자를 입력하세요: '))\n",
        "    if number > answer:\n",
        "        print('UP')\n",
        "    elif number < answer:\n",
        "        print('DOWN')\n",
        "    else:\n",
        "        print('정답!')\n",
        "        break"
      ],
      "execution_count": null,
      "outputs": [
        {
          "output_type": "stream",
          "text": [
            "숫자를 입력하세요: 40\n",
            "UP\n",
            "숫자를 입력하세요: 90\n",
            "DOWN\n",
            "숫자를 입력하세요: 80\n",
            "DOWN\n"
          ],
          "name": "stdout"
        },
        {
          "output_type": "error",
          "ename": "KeyboardInterrupt",
          "evalue": "ignored",
          "traceback": [
            "\u001b[0;31m---------------------------------------------------------------------------\u001b[0m",
            "\u001b[0;31mKeyboardInterrupt\u001b[0m                         Traceback (most recent call last)",
            "\u001b[0;32m/usr/local/lib/python3.7/dist-packages/ipykernel/kernelbase.py\u001b[0m in \u001b[0;36m_input_request\u001b[0;34m(self, prompt, ident, parent, password)\u001b[0m\n\u001b[1;32m    728\u001b[0m             \u001b[0;32mtry\u001b[0m\u001b[0;34m:\u001b[0m\u001b[0;34m\u001b[0m\u001b[0;34m\u001b[0m\u001b[0m\n\u001b[0;32m--> 729\u001b[0;31m                 \u001b[0mident\u001b[0m\u001b[0;34m,\u001b[0m \u001b[0mreply\u001b[0m \u001b[0;34m=\u001b[0m \u001b[0mself\u001b[0m\u001b[0;34m.\u001b[0m\u001b[0msession\u001b[0m\u001b[0;34m.\u001b[0m\u001b[0mrecv\u001b[0m\u001b[0;34m(\u001b[0m\u001b[0mself\u001b[0m\u001b[0;34m.\u001b[0m\u001b[0mstdin_socket\u001b[0m\u001b[0;34m,\u001b[0m \u001b[0;36m0\u001b[0m\u001b[0;34m)\u001b[0m\u001b[0;34m\u001b[0m\u001b[0;34m\u001b[0m\u001b[0m\n\u001b[0m\u001b[1;32m    730\u001b[0m             \u001b[0;32mexcept\u001b[0m \u001b[0mException\u001b[0m\u001b[0;34m:\u001b[0m\u001b[0;34m\u001b[0m\u001b[0;34m\u001b[0m\u001b[0m\n",
            "\u001b[0;32m/usr/local/lib/python3.7/dist-packages/jupyter_client/session.py\u001b[0m in \u001b[0;36mrecv\u001b[0;34m(self, socket, mode, content, copy)\u001b[0m\n\u001b[1;32m    802\u001b[0m         \u001b[0;32mtry\u001b[0m\u001b[0;34m:\u001b[0m\u001b[0;34m\u001b[0m\u001b[0;34m\u001b[0m\u001b[0m\n\u001b[0;32m--> 803\u001b[0;31m             \u001b[0mmsg_list\u001b[0m \u001b[0;34m=\u001b[0m \u001b[0msocket\u001b[0m\u001b[0;34m.\u001b[0m\u001b[0mrecv_multipart\u001b[0m\u001b[0;34m(\u001b[0m\u001b[0mmode\u001b[0m\u001b[0;34m,\u001b[0m \u001b[0mcopy\u001b[0m\u001b[0;34m=\u001b[0m\u001b[0mcopy\u001b[0m\u001b[0;34m)\u001b[0m\u001b[0;34m\u001b[0m\u001b[0;34m\u001b[0m\u001b[0m\n\u001b[0m\u001b[1;32m    804\u001b[0m         \u001b[0;32mexcept\u001b[0m \u001b[0mzmq\u001b[0m\u001b[0;34m.\u001b[0m\u001b[0mZMQError\u001b[0m \u001b[0;32mas\u001b[0m \u001b[0me\u001b[0m\u001b[0;34m:\u001b[0m\u001b[0;34m\u001b[0m\u001b[0;34m\u001b[0m\u001b[0m\n",
            "\u001b[0;32m/usr/local/lib/python3.7/dist-packages/zmq/sugar/socket.py\u001b[0m in \u001b[0;36mrecv_multipart\u001b[0;34m(self, flags, copy, track)\u001b[0m\n\u001b[1;32m    582\u001b[0m         \"\"\"\n\u001b[0;32m--> 583\u001b[0;31m         \u001b[0mparts\u001b[0m \u001b[0;34m=\u001b[0m \u001b[0;34m[\u001b[0m\u001b[0mself\u001b[0m\u001b[0;34m.\u001b[0m\u001b[0mrecv\u001b[0m\u001b[0;34m(\u001b[0m\u001b[0mflags\u001b[0m\u001b[0;34m,\u001b[0m \u001b[0mcopy\u001b[0m\u001b[0;34m=\u001b[0m\u001b[0mcopy\u001b[0m\u001b[0;34m,\u001b[0m \u001b[0mtrack\u001b[0m\u001b[0;34m=\u001b[0m\u001b[0mtrack\u001b[0m\u001b[0;34m)\u001b[0m\u001b[0;34m]\u001b[0m\u001b[0;34m\u001b[0m\u001b[0;34m\u001b[0m\u001b[0m\n\u001b[0m\u001b[1;32m    584\u001b[0m         \u001b[0;31m# have first part already, only loop while more to receive\u001b[0m\u001b[0;34m\u001b[0m\u001b[0;34m\u001b[0m\u001b[0;34m\u001b[0m\u001b[0m\n",
            "\u001b[0;32mzmq/backend/cython/socket.pyx\u001b[0m in \u001b[0;36mzmq.backend.cython.socket.Socket.recv\u001b[0;34m()\u001b[0m\n",
            "\u001b[0;32mzmq/backend/cython/socket.pyx\u001b[0m in \u001b[0;36mzmq.backend.cython.socket.Socket.recv\u001b[0;34m()\u001b[0m\n",
            "\u001b[0;32mzmq/backend/cython/socket.pyx\u001b[0m in \u001b[0;36mzmq.backend.cython.socket._recv_copy\u001b[0;34m()\u001b[0m\n",
            "\u001b[0;32m/usr/local/lib/python3.7/dist-packages/zmq/backend/cython/checkrc.pxd\u001b[0m in \u001b[0;36mzmq.backend.cython.checkrc._check_rc\u001b[0;34m()\u001b[0m\n",
            "\u001b[0;31mKeyboardInterrupt\u001b[0m: ",
            "\nDuring handling of the above exception, another exception occurred:\n",
            "\u001b[0;31mKeyboardInterrupt\u001b[0m                         Traceback (most recent call last)",
            "\u001b[0;32m<ipython-input-72-284ad674ee67>\u001b[0m in \u001b[0;36m<module>\u001b[0;34m()\u001b[0m\n\u001b[1;32m      3\u001b[0m \u001b[0mnumber\u001b[0m \u001b[0;34m=\u001b[0m \u001b[0mrandom\u001b[0m\u001b[0;34m.\u001b[0m\u001b[0mrandint\u001b[0m\u001b[0;34m(\u001b[0m\u001b[0;36m1\u001b[0m\u001b[0;34m,\u001b[0m \u001b[0;36m100\u001b[0m\u001b[0;34m)\u001b[0m\u001b[0;34m\u001b[0m\u001b[0;34m\u001b[0m\u001b[0m\n\u001b[1;32m      4\u001b[0m \u001b[0;32mwhile\u001b[0m \u001b[0;32mTrue\u001b[0m\u001b[0;34m:\u001b[0m\u001b[0;34m\u001b[0m\u001b[0;34m\u001b[0m\u001b[0m\n\u001b[0;32m----> 5\u001b[0;31m     \u001b[0manswer\u001b[0m \u001b[0;34m=\u001b[0m \u001b[0mint\u001b[0m\u001b[0;34m(\u001b[0m\u001b[0minput\u001b[0m\u001b[0;34m(\u001b[0m\u001b[0;34m'숫자를 입력하세요: '\u001b[0m\u001b[0;34m)\u001b[0m\u001b[0;34m)\u001b[0m\u001b[0;34m\u001b[0m\u001b[0;34m\u001b[0m\u001b[0m\n\u001b[0m\u001b[1;32m      6\u001b[0m     \u001b[0;32mif\u001b[0m \u001b[0mnumber\u001b[0m \u001b[0;34m>\u001b[0m \u001b[0manswer\u001b[0m\u001b[0;34m:\u001b[0m\u001b[0;34m\u001b[0m\u001b[0;34m\u001b[0m\u001b[0m\n\u001b[1;32m      7\u001b[0m         \u001b[0mprint\u001b[0m\u001b[0;34m(\u001b[0m\u001b[0;34m'UP'\u001b[0m\u001b[0;34m)\u001b[0m\u001b[0;34m\u001b[0m\u001b[0;34m\u001b[0m\u001b[0m\n",
            "\u001b[0;32m/usr/local/lib/python3.7/dist-packages/ipykernel/kernelbase.py\u001b[0m in \u001b[0;36mraw_input\u001b[0;34m(self, prompt)\u001b[0m\n\u001b[1;32m    702\u001b[0m             \u001b[0mself\u001b[0m\u001b[0;34m.\u001b[0m\u001b[0m_parent_ident\u001b[0m\u001b[0;34m,\u001b[0m\u001b[0;34m\u001b[0m\u001b[0;34m\u001b[0m\u001b[0m\n\u001b[1;32m    703\u001b[0m             \u001b[0mself\u001b[0m\u001b[0;34m.\u001b[0m\u001b[0m_parent_header\u001b[0m\u001b[0;34m,\u001b[0m\u001b[0;34m\u001b[0m\u001b[0;34m\u001b[0m\u001b[0m\n\u001b[0;32m--> 704\u001b[0;31m             \u001b[0mpassword\u001b[0m\u001b[0;34m=\u001b[0m\u001b[0;32mFalse\u001b[0m\u001b[0;34m,\u001b[0m\u001b[0;34m\u001b[0m\u001b[0;34m\u001b[0m\u001b[0m\n\u001b[0m\u001b[1;32m    705\u001b[0m         )\n\u001b[1;32m    706\u001b[0m \u001b[0;34m\u001b[0m\u001b[0m\n",
            "\u001b[0;32m/usr/local/lib/python3.7/dist-packages/ipykernel/kernelbase.py\u001b[0m in \u001b[0;36m_input_request\u001b[0;34m(self, prompt, ident, parent, password)\u001b[0m\n\u001b[1;32m    732\u001b[0m             \u001b[0;32mexcept\u001b[0m \u001b[0mKeyboardInterrupt\u001b[0m\u001b[0;34m:\u001b[0m\u001b[0;34m\u001b[0m\u001b[0;34m\u001b[0m\u001b[0m\n\u001b[1;32m    733\u001b[0m                 \u001b[0;31m# re-raise KeyboardInterrupt, to truncate traceback\u001b[0m\u001b[0;34m\u001b[0m\u001b[0;34m\u001b[0m\u001b[0;34m\u001b[0m\u001b[0m\n\u001b[0;32m--> 734\u001b[0;31m                 \u001b[0;32mraise\u001b[0m \u001b[0mKeyboardInterrupt\u001b[0m\u001b[0;34m\u001b[0m\u001b[0;34m\u001b[0m\u001b[0m\n\u001b[0m\u001b[1;32m    735\u001b[0m             \u001b[0;32melse\u001b[0m\u001b[0;34m:\u001b[0m\u001b[0;34m\u001b[0m\u001b[0;34m\u001b[0m\u001b[0m\n\u001b[1;32m    736\u001b[0m                 \u001b[0;32mbreak\u001b[0m\u001b[0;34m\u001b[0m\u001b[0;34m\u001b[0m\u001b[0m\n",
            "\u001b[0;31mKeyboardInterrupt\u001b[0m: "
          ]
        }
      ]
    },
    {
      "cell_type": "code",
      "metadata": {
        "id": "h0xHkk_ExK59"
      },
      "source": [
        ""
      ],
      "execution_count": null,
      "outputs": []
    }
  ]
}